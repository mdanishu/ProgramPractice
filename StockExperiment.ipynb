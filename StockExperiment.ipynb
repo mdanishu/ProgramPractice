{
 "cells": [
  {
   "cell_type": "code",
   "execution_count": 2,
   "metadata": {},
   "outputs": [],
   "source": [
    "import sys\n",
    "import yfinance as yf\n",
    "import pandas as pd\n",
    "import matplotlib as plt\n",
    "from datetime import datetime\n",
    "import investpy\n"
   ]
  },
  {
   "cell_type": "code",
   "execution_count": 11,
   "metadata": {},
   "outputs": [
    {
     "ename": "ConnectionError",
     "evalue": "ERR#0015: error 403, try again later.",
     "output_type": "error",
     "traceback": [
      "\u001b[1;31m---------------------------------------------------------------------------\u001b[0m",
      "\u001b[1;31mConnectionError\u001b[0m                           Traceback (most recent call last)",
      "\u001b[1;32mc:\\Users\\h2pro\\Programming\\StockExperiment.ipynb Cell 2\u001b[0m in \u001b[0;36m<cell line: 1>\u001b[1;34m()\u001b[0m\n\u001b[1;32m----> <a href='vscode-notebook-cell:/c%3A/Users/h2pro/Programming/StockExperiment.ipynb#W3sZmlsZQ%3D%3D?line=0'>1</a>\u001b[0m bitcoin \u001b[39m=\u001b[39m investpy\u001b[39m.\u001b[39;49mget_crypto_historical_data(\u001b[39m'\u001b[39;49m\u001b[39mbitcoin\u001b[39;49m\u001b[39m'\u001b[39;49m,from_date\u001b[39m=\u001b[39;49m\u001b[39m'\u001b[39;49m\u001b[39m01/01/2022\u001b[39;49m\u001b[39m'\u001b[39;49m,to_date\u001b[39m=\u001b[39;49m\u001b[39mstr\u001b[39;49m(\u001b[39m'\u001b[39;49m\u001b[39m12/7/2022\u001b[39;49m\u001b[39m'\u001b[39;49m))\n\u001b[0;32m      <a href='vscode-notebook-cell:/c%3A/Users/h2pro/Programming/StockExperiment.ipynb#W3sZmlsZQ%3D%3D?line=1'>2</a>\u001b[0m \u001b[39mprint\u001b[39m(bitcoin)\n",
      "File \u001b[1;32mc:\\Users\\h2pro\\AppData\\Local\\Programs\\Python\\Python310\\lib\\site-packages\\investpy\\crypto.py:598\u001b[0m, in \u001b[0;36mget_crypto_historical_data\u001b[1;34m(crypto, from_date, to_date, as_json, order, interval)\u001b[0m\n\u001b[0;32m    595\u001b[0m req \u001b[39m=\u001b[39m requests\u001b[39m.\u001b[39mpost(url, headers\u001b[39m=\u001b[39mhead, data\u001b[39m=\u001b[39mparams)\n\u001b[0;32m    597\u001b[0m \u001b[39mif\u001b[39;00m req\u001b[39m.\u001b[39mstatus_code \u001b[39m!=\u001b[39m \u001b[39m200\u001b[39m:\n\u001b[1;32m--> 598\u001b[0m     \u001b[39mraise\u001b[39;00m \u001b[39mConnectionError\u001b[39;00m(\n\u001b[0;32m    599\u001b[0m         \u001b[39m\"\u001b[39m\u001b[39mERR#0015: error \u001b[39m\u001b[39m\"\u001b[39m \u001b[39m+\u001b[39m \u001b[39mstr\u001b[39m(req\u001b[39m.\u001b[39mstatus_code) \u001b[39m+\u001b[39m \u001b[39m\"\u001b[39m\u001b[39m, try again later.\u001b[39m\u001b[39m\"\u001b[39m\n\u001b[0;32m    600\u001b[0m     )\n\u001b[0;32m    602\u001b[0m \u001b[39mif\u001b[39;00m \u001b[39mnot\u001b[39;00m req\u001b[39m.\u001b[39mtext:\n\u001b[0;32m    603\u001b[0m     \u001b[39mcontinue\u001b[39;00m\n",
      "\u001b[1;31mConnectionError\u001b[0m: ERR#0015: error 403, try again later."
     ]
    }
   ],
   "source": [
    "bitcoin = investpy.get_crypto_historical_data('bitcoin',from_date='01/01/2022',to_date=str('12/7/2022'))\n",
    "print(bitcoin)"
   ]
  },
  {
   "cell_type": "code",
   "execution_count": 3,
   "metadata": {},
   "outputs": [],
   "source": [
    "tickers = 'AAPL'\n",
    "stock = yf.Ticker(tickers)\n",
    "stockinfo = stock.info\n"
   ]
  },
  {
   "cell_type": "code",
   "execution_count": null,
   "metadata": {},
   "outputs": [],
   "source": [
    "def analysisout (tickers, period='5y', interval='1d'):\n",
    "    stock = yf.Ticker(tickers)\n",
    "    stockinfo = stock.info\n",
    "    twohundred = stock.info['twoHundredDayAverage']\n",
    "    volume = stock.info['volume']\n",
    "    recs = stock.recommendations\n",
    "    lastClose = stock.info['previousClose']\n",
    "    percentBelow200 = (lastClose - twohundred) / twohundred * 100\n",
    "\n",
    "    hist = stock.history(period, interval)\n",
    "\n",
    "    hist.reset_index(inplace=True)\n",
    "    hist = hist.rename(columns={'index': 'Date', 'Close':'Price'})\n",
    "    hist = hist[['Date', 'Price', 'Volume']]\n",
    "\n",
    "    return (hist)\n",
    "print(analysisout(tickers))\n"
   ]
  }
 ],
 "metadata": {
  "kernelspec": {
   "display_name": "Python 3",
   "language": "python",
   "name": "python3"
  },
  "language_info": {
   "codemirror_mode": {
    "name": "ipython",
    "version": 3
   },
   "file_extension": ".py",
   "mimetype": "text/x-python",
   "name": "python",
   "nbconvert_exporter": "python",
   "pygments_lexer": "ipython3",
   "version": "3.10.5 (tags/v3.10.5:f377153, Jun  6 2022, 16:14:13) [MSC v.1929 64 bit (AMD64)]"
  },
  "orig_nbformat": 4,
  "vscode": {
   "interpreter": {
    "hash": "01c730f715953cdae05f8e4ac25ca6d1b5ea3ce06f18038eaf15eb4c2f30d669"
   }
  }
 },
 "nbformat": 4,
 "nbformat_minor": 2
}
