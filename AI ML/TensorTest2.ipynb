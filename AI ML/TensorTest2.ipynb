{
 "cells": [
  {
   "cell_type": "code",
   "execution_count": 24,
   "metadata": {
    "collapsed": false,
    "pycharm": {
     "name": "#%%\n"
    }
   },
   "outputs": [],
   "source": [
    "import tensorflow as tf\n",
    "from tensorflow import keras\n",
    "import yfinance as yf\n",
    "import numpy as np\n",
    "import matplotlib.pyplot as plt\n",
    "import pandas as pd\n",
    "import datetime as dt\n",
    "import sys\n",
    "sys.path.insert(1,'c:/Users/h2pro/Programming')\n",
    "import StockPull\n",
    "from sklearn.preprocessing import MinMaxScaler, StandardScaler\n",
    "import seaborn as sns\n",
    "from pandas.tseries.holiday import USFederalHolidayCalendar\n",
    "from pandas.tseries.offsets import CustomBusinessDay\n",
    "\n",
    "\n",
    "#load data\n",
    "company = 'tsla'\n",
    "start = dt.datetime(2012,1,1)\n",
    "end = dt.datetime(2022,1,1)\n",
    "\n",
    "data = StockPull.analysisout(company)\n",
    "df = data"
   ]
  },
  {
   "cell_type": "code",
   "execution_count": 29,
   "metadata": {},
   "outputs": [],
   "source": [
    "# prepare the data for training\n",
    "train_data = data[['Price', 'Volume']].values\n",
    "train_dates = pd.to_datetime(data['Date'])\n",
    "scaler = StandardScaler()\n",
    "scaler = scaler.fit(train_data)\n",
    "train_data_scaled = scaler.transform(train_data)\n"
   ]
  },
  {
   "cell_type": "code",
   "execution_count": 35,
   "metadata": {},
   "outputs": [
    {
     "name": "stdout",
     "output_type": "stream",
     "text": [
      "           Price       Volume\n",
      "0      21.008667   52027500.0\n",
      "1      21.927334  119070000.0\n",
      "2      22.735332  130998000.0\n",
      "3      22.601999   93322500.0\n",
      "4      22.525999   86998500.0\n",
      "...          ...          ...\n",
      "1253  194.699997   80046200.0\n",
      "1254  194.860001   73533400.0\n",
      "1255  182.449997   93122700.0\n",
      "1256  179.820007   92150800.0\n",
      "1257  174.039993   84052700.0\n",
      "\n",
      "[1258 rows x 2 columns]\n"
     ]
    }
   ],
   "source": [
    "#Variables for training\n",
    "cols = list(df)[1:3]\n",
    "#New dataframe with only training data - 5 columns\n",
    "df_for_training = df[cols].astype(float)\n",
    "# print(train_data)\n",
    "print(df_for_training)"
   ]
  },
  {
   "cell_type": "code",
   "execution_count": null,
   "metadata": {},
   "outputs": [],
   "source": [
    "# set up the training and test data\n",
    "n_future = 1\n",
    "n_past = 60\n",
    "\n",
    "train_x = []\n",
    "train_y = []\n",
    "\n",
    "for i in range(n_past, len(train_data_scaled) - n_future +1):\n",
    "    train_x.append(train_data_scaled[i - n_past:i, 0:train_data.shape[1]])\n",
    "    train_y.append(train_data_scaled[i + n_future - 1:i + n_future, 0])\n",
    "\n",
    "train_x, train_y = np.array(train_x), np.array(train_y)\n"
   ]
  },
  {
   "cell_type": "code",
   "execution_count": null,
   "metadata": {},
   "outputs": [],
   "source": [
    "# specify the test split (e.g. 0.2 for 20% of the data to be used for testing)\n",
    "test_split = 0.2\n",
    "\n",
    "# split the data into training and test sets\n",
    "n_test = int(test_split * len(train_x))\n",
    "test_x, test_y = train_x[:n_test], train_y[:n_test]\n",
    "train_x, train_y = train_x[n_test:], train_y[n_test:]\n",
    "\n",
    "# print the shapes of the training and test sets\n",
    "print('train_x shape:', train_x.shape)\n",
    "print('train_y shape:', train_y.shape)\n",
    "print('test_x shape:', test_x.shape)\n",
    "print('test_y shape:', test_y.shape)\n"
   ]
  },
  {
   "cell_type": "code",
   "execution_count": null,
   "metadata": {},
   "outputs": [],
   "source": [
    "# build the model\n",
    "model = keras.Sequential()\n",
    "\n",
    "model.add(keras.layers.LSTM(64, activation='relu', input_shape=(train_x.shape[1], train_x.shape[2]), return_sequences=True))\n",
    "model.add(keras.layers.LSTM(32, activation='relu', return_sequences=False))\n",
    "model.add(keras.layers.Dropout(0.2))\n",
    "model.add(keras.layers.Dense(train_y.shape[1]))\n",
    "\n",
    "# compile the model\n",
    "model.compile(optimizer='adam', loss='mse')\n",
    "model.summary()\n",
    "\n",
    "# train the model\n",
    "history = model.fit(train_x, train_y, epochs=30, batch_size=32)"
   ]
  },
  {
   "cell_type": "code",
   "execution_count": null,
   "metadata": {},
   "outputs": [],
   "source": [
    "# evaluate the model\n",
    "loss = model.evaluate(train_x, train_y)\n",
    "print('Test Loss:', loss)"
   ]
  },
  {
   "cell_type": "code",
   "execution_count": null,
   "metadata": {},
   "outputs": [],
   "source": [
    "# make predictions on the test set\n",
    "yhat = model.predict(test_x)\n",
    "\n",
    "# add an extra dimension to the yhat array\n",
    "forecast_copies = np.repeat(yhat, train_data.shape[1], axis=-1)\n",
    "\n",
    "# invert scaling for forecast\n",
    "inv_yhat = scaler.inverse_transform(forecast_copies)\n",
    "inv_yhat = inv_yhat[:,0]"
   ]
  },
  {
   "cell_type": "code",
   "execution_count": null,
   "metadata": {},
   "outputs": [],
   "source": [
    "# add an extra dimension to the inv_y array\n",
    "test_y_copies = np.repeat(test_y, train_data.shape[1], axis=-1)\n",
    "\n",
    "# invert scaling for actual\n",
    "test_y = test_y.reshape((len(test_y), 1))\n",
    "\n",
    "# inv_y = np.concatenate((test_y, test_x[:, 1:]), axis=1)\n",
    "inv_y = scaler.inverse_transform(test_y_copies)\n",
    "inv_y = inv_y[:,0]\n"
   ]
  },
  {
   "cell_type": "code",
   "execution_count": null,
   "metadata": {},
   "outputs": [],
   "source": [
    "# plot the predicted and actual prices\n",
    "plt.plot(inv_y, label='Actual Price')\n",
    "plt.plot(inv_yhat, label='Predicted Price')\n",
    "plt.xlabel('Time')\n",
    "plt.ylabel('Price')\n",
    "plt.title(company)\n",
    "plt.legend()\n",
    "plt.show()"
   ]
  }
 ],
 "metadata": {
  "kernelspec": {
   "display_name": "Python 3.10.5 64-bit",
   "language": "python",
   "name": "python3"
  },
  "language_info": {
   "codemirror_mode": {
    "name": "ipython",
    "version": 3
   },
   "file_extension": ".py",
   "mimetype": "text/x-python",
   "name": "python",
   "nbconvert_exporter": "python",
   "pygments_lexer": "ipython3",
   "version": "3.10.5 (tags/v3.10.5:f377153, Jun  6 2022, 16:14:13) [MSC v.1929 64 bit (AMD64)]"
  },
  "vscode": {
   "interpreter": {
    "hash": "01c730f715953cdae05f8e4ac25ca6d1b5ea3ce06f18038eaf15eb4c2f30d669"
   }
  }
 },
 "nbformat": 4,
 "nbformat_minor": 0
}
