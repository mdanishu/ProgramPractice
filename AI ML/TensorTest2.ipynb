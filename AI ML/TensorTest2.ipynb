{
 "cells": [
  {
   "cell_type": "code",
   "execution_count": 62,
   "metadata": {
    "collapsed": false,
    "pycharm": {
     "name": "#%%\n"
    }
   },
   "outputs": [],
   "source": [
    "import tensorflow as tf\n",
    "from tensorflow import keras\n",
    "import yfinance as yf\n",
    "import numpy as np\n",
    "import matplotlib.pyplot as plt\n",
    "import pandas as pd\n",
    "import datetime as dt\n",
    "import sys\n",
    "sys.path.insert(1,'c:/Users/h2pro/Programming')\n",
    "import StockPull\n",
    "from sklearn.preprocessing import MinMaxScaler, StandardScaler\n",
    "import seaborn as sns\n",
    "from pandas.tseries.holiday import USFederalHolidayCalendar\n",
    "from pandas.tseries.offsets import CustomBusinessDay\n",
    "from tensorflow.keras.models import Sequential\n",
    "from tensorflow.keras.layers import LSTM\n",
    "from tensorflow.keras.layers import Dense, Dropout\n",
    "\n",
    "#load data\n",
    "company = 'msft'\n",
    "start = dt.datetime(2012,1,1)\n",
    "end = dt.datetime(2022,1,1)\n",
    "\n",
    "data = StockPull.analysisout(company)\n",
    "df = data"
   ]
  },
  {
   "cell_type": "code",
   "execution_count": 63,
   "metadata": {},
   "outputs": [
    {
     "name": "stdout",
     "output_type": "stream",
     "text": [
      "1243   2022-11-16\n",
      "1244   2022-11-17\n",
      "1245   2022-11-18\n",
      "1246   2022-11-21\n",
      "1247   2022-11-22\n",
      "1248   2022-11-23\n",
      "1249   2022-11-25\n",
      "1250   2022-11-28\n",
      "1251   2022-11-29\n",
      "1252   2022-11-30\n",
      "1253   2022-12-01\n",
      "1254   2022-12-02\n",
      "1255   2022-12-05\n",
      "1256   2022-12-06\n",
      "1257   2022-12-07\n",
      "Name: Date, dtype: datetime64[ns]\n",
      "           Price      Volume\n",
      "0      79.254723  24489100.0\n",
      "1      80.262337  22857900.0\n",
      "2      80.591972  23924100.0\n",
      "3      80.375366  22062700.0\n",
      "4      79.753830  19306000.0\n",
      "...          ...         ...\n",
      "1253  254.690002  26041500.0\n",
      "1254  255.020004  21522800.0\n",
      "1255  250.199997  23435300.0\n",
      "1256  245.119995  22463700.0\n",
      "1257  244.369995  20472000.0\n",
      "\n",
      "[1258 rows x 2 columns]\n"
     ]
    }
   ],
   "source": [
    "#Separate dates for future plotting\n",
    "train_dates = pd.to_datetime(df['Date'])\n",
    "print(train_dates.tail(15)) #Check last few dates. \n",
    "\n",
    "#Variables for training\n",
    "cols = list(df)[1:3]\n",
    "#New dataframe with only training data - 5 columns\n",
    "df_for_training = df[cols].astype(float)\n",
    "# print(train_data)\n",
    "print(df_for_training)"
   ]
  },
  {
   "cell_type": "code",
   "execution_count": 64,
   "metadata": {},
   "outputs": [],
   "source": [
    "scaler = StandardScaler()\n",
    "scaler = scaler.fit(df_for_training)\n",
    "df_for_training_scaled = scaler.transform(df_for_training)"
   ]
  },
  {
   "cell_type": "code",
   "execution_count": 65,
   "metadata": {},
   "outputs": [
    {
     "name": "stdout",
     "output_type": "stream",
     "text": [
      "trainX shape == (1198, 60, 2).\n",
      "trainY shape == (1198, 1).\n"
     ]
    }
   ],
   "source": [
    "#Empty lists to be populated using formatted training data\n",
    "trainX = []\n",
    "trainY = []\n",
    "\n",
    "n_future = 1   # Number of days we want to look into the future based on the past days.\n",
    "n_past = 60  # Number of past days we want to use to predict the future.\n",
    "\n",
    "#Reformat input data into a shape: (n_samples x timesteps x n_features)\n",
    "#In my example, my df_for_training_scaled has a shape (12823, 5)\n",
    "#12823 refers to the number of data points and 5 refers to the columns (multi-variables).\n",
    "for i in range(n_past, len(df_for_training_scaled) - n_future +1):\n",
    "    trainX.append(df_for_training_scaled[i - n_past:i, 0:df_for_training.shape[1]])\n",
    "    trainY.append(df_for_training_scaled[i + n_future - 1:i + n_future, 0])\n",
    "\n",
    "trainX, trainY = np.array(trainX), np.array(trainY)\n",
    "\n",
    "print('trainX shape == {}.'.format(trainX.shape))\n",
    "print('trainY shape == {}.'.format(trainY.shape))"
   ]
  },
  {
   "cell_type": "code",
   "execution_count": 66,
   "metadata": {},
   "outputs": [
    {
     "name": "stdout",
     "output_type": "stream",
     "text": [
      "Model: \"sequential_4\"\n",
      "_________________________________________________________________\n",
      " Layer (type)                Output Shape              Param #   \n",
      "=================================================================\n",
      " lstm_8 (LSTM)               (None, 60, 64)            17152     \n",
      "                                                                 \n",
      " lstm_9 (LSTM)               (None, 32)                12416     \n",
      "                                                                 \n",
      " dropout_4 (Dropout)         (None, 32)                0         \n",
      "                                                                 \n",
      " dense_4 (Dense)             (None, 1)                 33        \n",
      "                                                                 \n",
      "=================================================================\n",
      "Total params: 29,601\n",
      "Trainable params: 29,601\n",
      "Non-trainable params: 0\n",
      "_________________________________________________________________\n",
      "Epoch 1/25\n",
      "68/68 [==============================] - 3s 20ms/step - loss: 0.2570 - val_loss: 0.0336\n",
      "Epoch 2/25\n",
      "68/68 [==============================] - 1s 18ms/step - loss: 0.0475 - val_loss: 0.0272\n",
      "Epoch 3/25\n",
      "68/68 [==============================] - 1s 18ms/step - loss: 0.0413 - val_loss: 0.0301\n",
      "Epoch 4/25\n",
      "68/68 [==============================] - 1s 17ms/step - loss: 0.0384 - val_loss: 0.0327\n",
      "Epoch 5/25\n",
      "68/68 [==============================] - 1s 17ms/step - loss: 0.0391 - val_loss: 0.0252\n",
      "Epoch 6/25\n",
      "68/68 [==============================] - 1s 18ms/step - loss: 0.0360 - val_loss: 0.0207\n",
      "Epoch 7/25\n",
      "68/68 [==============================] - 1s 17ms/step - loss: 0.0352 - val_loss: 0.0226\n",
      "Epoch 8/25\n",
      "68/68 [==============================] - 1s 18ms/step - loss: 0.0371 - val_loss: 0.0399\n",
      "Epoch 9/25\n",
      "68/68 [==============================] - 1s 17ms/step - loss: 0.0383 - val_loss: 0.0221\n",
      "Epoch 10/25\n",
      "68/68 [==============================] - 1s 17ms/step - loss: 0.0396 - val_loss: 0.0184\n",
      "Epoch 11/25\n",
      "68/68 [==============================] - 1s 18ms/step - loss: 0.0331 - val_loss: 0.0192\n",
      "Epoch 12/25\n",
      "68/68 [==============================] - 1s 18ms/step - loss: 0.0350 - val_loss: 0.0187\n",
      "Epoch 13/25\n",
      "68/68 [==============================] - 1s 18ms/step - loss: 0.0355 - val_loss: 0.0199\n",
      "Epoch 14/25\n",
      "68/68 [==============================] - 1s 18ms/step - loss: 0.0324 - val_loss: 0.0182\n",
      "Epoch 15/25\n",
      "68/68 [==============================] - 1s 19ms/step - loss: 0.0327 - val_loss: 0.0179\n",
      "Epoch 16/25\n",
      "68/68 [==============================] - 1s 18ms/step - loss: 0.0309 - val_loss: 0.0177\n",
      "Epoch 17/25\n",
      "68/68 [==============================] - 1s 17ms/step - loss: 0.0323 - val_loss: 0.0194\n",
      "Epoch 18/25\n",
      "68/68 [==============================] - 1s 18ms/step - loss: 0.0298 - val_loss: 0.0163\n",
      "Epoch 19/25\n",
      "68/68 [==============================] - 1s 18ms/step - loss: 0.0314 - val_loss: 0.0161\n",
      "Epoch 20/25\n",
      "68/68 [==============================] - 1s 18ms/step - loss: 0.0326 - val_loss: 0.0176\n",
      "Epoch 21/25\n",
      "68/68 [==============================] - 1s 19ms/step - loss: 0.0330 - val_loss: 0.0185\n",
      "Epoch 22/25\n",
      "68/68 [==============================] - 1s 18ms/step - loss: 0.0324 - val_loss: 0.0164\n",
      "Epoch 23/25\n",
      "68/68 [==============================] - 1s 18ms/step - loss: 0.0310 - val_loss: 0.0165\n",
      "Epoch 24/25\n",
      "68/68 [==============================] - 1s 18ms/step - loss: 0.0329 - val_loss: 0.0141\n",
      "Epoch 25/25\n",
      "68/68 [==============================] - 1s 18ms/step - loss: 0.0297 - val_loss: 0.0143\n"
     ]
    }
   ],
   "source": [
    "model = Sequential()\n",
    "model.add(LSTM(64, activation='relu', input_shape=(trainX.shape[1], trainX.shape[2]), return_sequences=True))\n",
    "model.add(LSTM(32, activation='relu', return_sequences=False))\n",
    "model.add(Dropout(0.2))\n",
    "model.add(Dense(trainY.shape[1]))\n",
    "\n",
    "model.compile(optimizer='adam', loss='mse')\n",
    "model.summary()\n",
    "\n",
    "\n",
    "# fit the model\n",
    "history = model.fit(trainX, trainY, epochs=25, batch_size=16, validation_split=0.1, verbose=1)"
   ]
  },
  {
   "cell_type": "code",
   "execution_count": 67,
   "metadata": {},
   "outputs": [
    {
     "name": "stdout",
     "output_type": "stream",
     "text": [
      "[Timestamp('2021-09-30 00:00:00', freq='C'), Timestamp('2021-10-01 00:00:00', freq='C'), Timestamp('2021-10-04 00:00:00', freq='C'), Timestamp('2021-10-05 00:00:00', freq='C'), Timestamp('2021-10-06 00:00:00', freq='C'), Timestamp('2021-10-07 00:00:00', freq='C'), Timestamp('2021-10-08 00:00:00', freq='C'), Timestamp('2021-10-12 00:00:00', freq='C'), Timestamp('2021-10-13 00:00:00', freq='C'), Timestamp('2021-10-14 00:00:00', freq='C'), Timestamp('2021-10-15 00:00:00', freq='C'), Timestamp('2021-10-18 00:00:00', freq='C'), Timestamp('2021-10-19 00:00:00', freq='C'), Timestamp('2021-10-20 00:00:00', freq='C'), Timestamp('2021-10-21 00:00:00', freq='C'), Timestamp('2021-10-22 00:00:00', freq='C'), Timestamp('2021-10-25 00:00:00', freq='C'), Timestamp('2021-10-26 00:00:00', freq='C'), Timestamp('2021-10-27 00:00:00', freq='C'), Timestamp('2021-10-28 00:00:00', freq='C'), Timestamp('2021-10-29 00:00:00', freq='C'), Timestamp('2021-11-01 00:00:00', freq='C'), Timestamp('2021-11-02 00:00:00', freq='C'), Timestamp('2021-11-03 00:00:00', freq='C'), Timestamp('2021-11-04 00:00:00', freq='C'), Timestamp('2021-11-05 00:00:00', freq='C'), Timestamp('2021-11-08 00:00:00', freq='C'), Timestamp('2021-11-09 00:00:00', freq='C'), Timestamp('2021-11-10 00:00:00', freq='C'), Timestamp('2021-11-12 00:00:00', freq='C'), Timestamp('2021-11-15 00:00:00', freq='C'), Timestamp('2021-11-16 00:00:00', freq='C'), Timestamp('2021-11-17 00:00:00', freq='C'), Timestamp('2021-11-18 00:00:00', freq='C'), Timestamp('2021-11-19 00:00:00', freq='C'), Timestamp('2021-11-22 00:00:00', freq='C'), Timestamp('2021-11-23 00:00:00', freq='C'), Timestamp('2021-11-24 00:00:00', freq='C'), Timestamp('2021-11-26 00:00:00', freq='C'), Timestamp('2021-11-29 00:00:00', freq='C'), Timestamp('2021-11-30 00:00:00', freq='C'), Timestamp('2021-12-01 00:00:00', freq='C'), Timestamp('2021-12-02 00:00:00', freq='C'), Timestamp('2021-12-03 00:00:00', freq='C'), Timestamp('2021-12-06 00:00:00', freq='C'), Timestamp('2021-12-07 00:00:00', freq='C'), Timestamp('2021-12-08 00:00:00', freq='C'), Timestamp('2021-12-09 00:00:00', freq='C'), Timestamp('2021-12-10 00:00:00', freq='C'), Timestamp('2021-12-13 00:00:00', freq='C'), Timestamp('2021-12-14 00:00:00', freq='C'), Timestamp('2021-12-15 00:00:00', freq='C'), Timestamp('2021-12-16 00:00:00', freq='C'), Timestamp('2021-12-17 00:00:00', freq='C'), Timestamp('2021-12-20 00:00:00', freq='C'), Timestamp('2021-12-21 00:00:00', freq='C'), Timestamp('2021-12-22 00:00:00', freq='C'), Timestamp('2021-12-23 00:00:00', freq='C'), Timestamp('2021-12-27 00:00:00', freq='C'), Timestamp('2021-12-28 00:00:00', freq='C'), Timestamp('2021-12-29 00:00:00', freq='C'), Timestamp('2021-12-30 00:00:00', freq='C'), Timestamp('2022-01-03 00:00:00', freq='C'), Timestamp('2022-01-04 00:00:00', freq='C'), Timestamp('2022-01-05 00:00:00', freq='C'), Timestamp('2022-01-06 00:00:00', freq='C'), Timestamp('2022-01-07 00:00:00', freq='C'), Timestamp('2022-01-10 00:00:00', freq='C'), Timestamp('2022-01-11 00:00:00', freq='C'), Timestamp('2022-01-12 00:00:00', freq='C'), Timestamp('2022-01-13 00:00:00', freq='C'), Timestamp('2022-01-14 00:00:00', freq='C'), Timestamp('2022-01-18 00:00:00', freq='C'), Timestamp('2022-01-19 00:00:00', freq='C'), Timestamp('2022-01-20 00:00:00', freq='C'), Timestamp('2022-01-21 00:00:00', freq='C'), Timestamp('2022-01-24 00:00:00', freq='C'), Timestamp('2022-01-25 00:00:00', freq='C'), Timestamp('2022-01-26 00:00:00', freq='C'), Timestamp('2022-01-27 00:00:00', freq='C'), Timestamp('2022-01-28 00:00:00', freq='C'), Timestamp('2022-01-31 00:00:00', freq='C'), Timestamp('2022-02-01 00:00:00', freq='C'), Timestamp('2022-02-02 00:00:00', freq='C'), Timestamp('2022-02-03 00:00:00', freq='C'), Timestamp('2022-02-04 00:00:00', freq='C'), Timestamp('2022-02-07 00:00:00', freq='C'), Timestamp('2022-02-08 00:00:00', freq='C'), Timestamp('2022-02-09 00:00:00', freq='C'), Timestamp('2022-02-10 00:00:00', freq='C'), Timestamp('2022-02-11 00:00:00', freq='C'), Timestamp('2022-02-14 00:00:00', freq='C'), Timestamp('2022-02-15 00:00:00', freq='C'), Timestamp('2022-02-16 00:00:00', freq='C'), Timestamp('2022-02-17 00:00:00', freq='C'), Timestamp('2022-02-18 00:00:00', freq='C'), Timestamp('2022-02-22 00:00:00', freq='C'), Timestamp('2022-02-23 00:00:00', freq='C'), Timestamp('2022-02-24 00:00:00', freq='C'), Timestamp('2022-02-25 00:00:00', freq='C'), Timestamp('2022-02-28 00:00:00', freq='C'), Timestamp('2022-03-01 00:00:00', freq='C'), Timestamp('2022-03-02 00:00:00', freq='C'), Timestamp('2022-03-03 00:00:00', freq='C'), Timestamp('2022-03-04 00:00:00', freq='C'), Timestamp('2022-03-07 00:00:00', freq='C'), Timestamp('2022-03-08 00:00:00', freq='C'), Timestamp('2022-03-09 00:00:00', freq='C'), Timestamp('2022-03-10 00:00:00', freq='C'), Timestamp('2022-03-11 00:00:00', freq='C'), Timestamp('2022-03-14 00:00:00', freq='C'), Timestamp('2022-03-15 00:00:00', freq='C'), Timestamp('2022-03-16 00:00:00', freq='C'), Timestamp('2022-03-17 00:00:00', freq='C'), Timestamp('2022-03-18 00:00:00', freq='C'), Timestamp('2022-03-21 00:00:00', freq='C'), Timestamp('2022-03-22 00:00:00', freq='C'), Timestamp('2022-03-23 00:00:00', freq='C'), Timestamp('2022-03-24 00:00:00', freq='C'), Timestamp('2022-03-25 00:00:00', freq='C'), Timestamp('2022-03-28 00:00:00', freq='C'), Timestamp('2022-03-29 00:00:00', freq='C'), Timestamp('2022-03-30 00:00:00', freq='C'), Timestamp('2022-03-31 00:00:00', freq='C'), Timestamp('2022-04-01 00:00:00', freq='C'), Timestamp('2022-04-04 00:00:00', freq='C'), Timestamp('2022-04-05 00:00:00', freq='C'), Timestamp('2022-04-06 00:00:00', freq='C'), Timestamp('2022-04-07 00:00:00', freq='C'), Timestamp('2022-04-08 00:00:00', freq='C'), Timestamp('2022-04-11 00:00:00', freq='C'), Timestamp('2022-04-12 00:00:00', freq='C'), Timestamp('2022-04-13 00:00:00', freq='C'), Timestamp('2022-04-14 00:00:00', freq='C'), Timestamp('2022-04-15 00:00:00', freq='C'), Timestamp('2022-04-18 00:00:00', freq='C'), Timestamp('2022-04-19 00:00:00', freq='C'), Timestamp('2022-04-20 00:00:00', freq='C'), Timestamp('2022-04-21 00:00:00', freq='C'), Timestamp('2022-04-22 00:00:00', freq='C'), Timestamp('2022-04-25 00:00:00', freq='C'), Timestamp('2022-04-26 00:00:00', freq='C'), Timestamp('2022-04-27 00:00:00', freq='C'), Timestamp('2022-04-28 00:00:00', freq='C'), Timestamp('2022-04-29 00:00:00', freq='C'), Timestamp('2022-05-02 00:00:00', freq='C'), Timestamp('2022-05-03 00:00:00', freq='C'), Timestamp('2022-05-04 00:00:00', freq='C'), Timestamp('2022-05-05 00:00:00', freq='C'), Timestamp('2022-05-06 00:00:00', freq='C'), Timestamp('2022-05-09 00:00:00', freq='C'), Timestamp('2022-05-10 00:00:00', freq='C'), Timestamp('2022-05-11 00:00:00', freq='C'), Timestamp('2022-05-12 00:00:00', freq='C'), Timestamp('2022-05-13 00:00:00', freq='C'), Timestamp('2022-05-16 00:00:00', freq='C'), Timestamp('2022-05-17 00:00:00', freq='C'), Timestamp('2022-05-18 00:00:00', freq='C'), Timestamp('2022-05-19 00:00:00', freq='C'), Timestamp('2022-05-20 00:00:00', freq='C'), Timestamp('2022-05-23 00:00:00', freq='C'), Timestamp('2022-05-24 00:00:00', freq='C'), Timestamp('2022-05-25 00:00:00', freq='C'), Timestamp('2022-05-26 00:00:00', freq='C'), Timestamp('2022-05-27 00:00:00', freq='C'), Timestamp('2022-05-31 00:00:00', freq='C'), Timestamp('2022-06-01 00:00:00', freq='C'), Timestamp('2022-06-02 00:00:00', freq='C'), Timestamp('2022-06-03 00:00:00', freq='C'), Timestamp('2022-06-06 00:00:00', freq='C'), Timestamp('2022-06-07 00:00:00', freq='C'), Timestamp('2022-06-08 00:00:00', freq='C'), Timestamp('2022-06-09 00:00:00', freq='C'), Timestamp('2022-06-10 00:00:00', freq='C'), Timestamp('2022-06-13 00:00:00', freq='C'), Timestamp('2022-06-14 00:00:00', freq='C'), Timestamp('2022-06-15 00:00:00', freq='C'), Timestamp('2022-06-16 00:00:00', freq='C'), Timestamp('2022-06-17 00:00:00', freq='C'), Timestamp('2022-06-21 00:00:00', freq='C'), Timestamp('2022-06-22 00:00:00', freq='C'), Timestamp('2022-06-23 00:00:00', freq='C'), Timestamp('2022-06-24 00:00:00', freq='C'), Timestamp('2022-06-27 00:00:00', freq='C'), Timestamp('2022-06-28 00:00:00', freq='C'), Timestamp('2022-06-29 00:00:00', freq='C'), Timestamp('2022-06-30 00:00:00', freq='C'), Timestamp('2022-07-01 00:00:00', freq='C'), Timestamp('2022-07-05 00:00:00', freq='C'), Timestamp('2022-07-06 00:00:00', freq='C'), Timestamp('2022-07-07 00:00:00', freq='C'), Timestamp('2022-07-08 00:00:00', freq='C'), Timestamp('2022-07-11 00:00:00', freq='C'), Timestamp('2022-07-12 00:00:00', freq='C'), Timestamp('2022-07-13 00:00:00', freq='C'), Timestamp('2022-07-14 00:00:00', freq='C'), Timestamp('2022-07-15 00:00:00', freq='C'), Timestamp('2022-07-18 00:00:00', freq='C'), Timestamp('2022-07-19 00:00:00', freq='C'), Timestamp('2022-07-20 00:00:00', freq='C'), Timestamp('2022-07-21 00:00:00', freq='C'), Timestamp('2022-07-22 00:00:00', freq='C'), Timestamp('2022-07-25 00:00:00', freq='C'), Timestamp('2022-07-26 00:00:00', freq='C'), Timestamp('2022-07-27 00:00:00', freq='C'), Timestamp('2022-07-28 00:00:00', freq='C'), Timestamp('2022-07-29 00:00:00', freq='C'), Timestamp('2022-08-01 00:00:00', freq='C'), Timestamp('2022-08-02 00:00:00', freq='C'), Timestamp('2022-08-03 00:00:00', freq='C'), Timestamp('2022-08-04 00:00:00', freq='C'), Timestamp('2022-08-05 00:00:00', freq='C'), Timestamp('2022-08-08 00:00:00', freq='C'), Timestamp('2022-08-09 00:00:00', freq='C'), Timestamp('2022-08-10 00:00:00', freq='C'), Timestamp('2022-08-11 00:00:00', freq='C'), Timestamp('2022-08-12 00:00:00', freq='C'), Timestamp('2022-08-15 00:00:00', freq='C'), Timestamp('2022-08-16 00:00:00', freq='C'), Timestamp('2022-08-17 00:00:00', freq='C'), Timestamp('2022-08-18 00:00:00', freq='C'), Timestamp('2022-08-19 00:00:00', freq='C'), Timestamp('2022-08-22 00:00:00', freq='C'), Timestamp('2022-08-23 00:00:00', freq='C'), Timestamp('2022-08-24 00:00:00', freq='C'), Timestamp('2022-08-25 00:00:00', freq='C'), Timestamp('2022-08-26 00:00:00', freq='C'), Timestamp('2022-08-29 00:00:00', freq='C'), Timestamp('2022-08-30 00:00:00', freq='C'), Timestamp('2022-08-31 00:00:00', freq='C'), Timestamp('2022-09-01 00:00:00', freq='C'), Timestamp('2022-09-02 00:00:00', freq='C'), Timestamp('2022-09-06 00:00:00', freq='C'), Timestamp('2022-09-07 00:00:00', freq='C'), Timestamp('2022-09-08 00:00:00', freq='C'), Timestamp('2022-09-09 00:00:00', freq='C'), Timestamp('2022-09-12 00:00:00', freq='C'), Timestamp('2022-09-13 00:00:00', freq='C'), Timestamp('2022-09-14 00:00:00', freq='C'), Timestamp('2022-09-15 00:00:00', freq='C'), Timestamp('2022-09-16 00:00:00', freq='C'), Timestamp('2022-09-19 00:00:00', freq='C'), Timestamp('2022-09-20 00:00:00', freq='C'), Timestamp('2022-09-21 00:00:00', freq='C'), Timestamp('2022-09-22 00:00:00', freq='C'), Timestamp('2022-09-23 00:00:00', freq='C'), Timestamp('2022-09-26 00:00:00', freq='C'), Timestamp('2022-09-27 00:00:00', freq='C'), Timestamp('2022-09-28 00:00:00', freq='C'), Timestamp('2022-09-29 00:00:00', freq='C'), Timestamp('2022-09-30 00:00:00', freq='C'), Timestamp('2022-10-03 00:00:00', freq='C'), Timestamp('2022-10-04 00:00:00', freq='C'), Timestamp('2022-10-05 00:00:00', freq='C'), Timestamp('2022-10-06 00:00:00', freq='C'), Timestamp('2022-10-07 00:00:00', freq='C'), Timestamp('2022-10-11 00:00:00', freq='C'), Timestamp('2022-10-12 00:00:00', freq='C'), Timestamp('2022-10-13 00:00:00', freq='C'), Timestamp('2022-10-14 00:00:00', freq='C'), Timestamp('2022-10-17 00:00:00', freq='C'), Timestamp('2022-10-18 00:00:00', freq='C'), Timestamp('2022-10-19 00:00:00', freq='C'), Timestamp('2022-10-20 00:00:00', freq='C'), Timestamp('2022-10-21 00:00:00', freq='C'), Timestamp('2022-10-24 00:00:00', freq='C'), Timestamp('2022-10-25 00:00:00', freq='C'), Timestamp('2022-10-26 00:00:00', freq='C'), Timestamp('2022-10-27 00:00:00', freq='C'), Timestamp('2022-10-28 00:00:00', freq='C'), Timestamp('2022-10-31 00:00:00', freq='C'), Timestamp('2022-11-01 00:00:00', freq='C'), Timestamp('2022-11-02 00:00:00', freq='C'), Timestamp('2022-11-03 00:00:00', freq='C'), Timestamp('2022-11-04 00:00:00', freq='C'), Timestamp('2022-11-07 00:00:00', freq='C'), Timestamp('2022-11-08 00:00:00', freq='C'), Timestamp('2022-11-09 00:00:00', freq='C'), Timestamp('2022-11-10 00:00:00', freq='C'), Timestamp('2022-11-14 00:00:00', freq='C'), Timestamp('2022-11-15 00:00:00', freq='C'), Timestamp('2022-11-16 00:00:00', freq='C'), Timestamp('2022-11-17 00:00:00', freq='C'), Timestamp('2022-11-18 00:00:00', freq='C'), Timestamp('2022-11-21 00:00:00', freq='C'), Timestamp('2022-11-22 00:00:00', freq='C'), Timestamp('2022-11-23 00:00:00', freq='C'), Timestamp('2022-11-25 00:00:00', freq='C'), Timestamp('2022-11-28 00:00:00', freq='C'), Timestamp('2022-11-29 00:00:00', freq='C'), Timestamp('2022-11-30 00:00:00', freq='C'), Timestamp('2022-12-01 00:00:00', freq='C'), Timestamp('2022-12-02 00:00:00', freq='C'), Timestamp('2022-12-05 00:00:00', freq='C'), Timestamp('2022-12-06 00:00:00', freq='C'), Timestamp('2022-12-07 00:00:00', freq='C'), Timestamp('2022-12-08 00:00:00', freq='C'), Timestamp('2022-12-09 00:00:00', freq='C'), Timestamp('2022-12-12 00:00:00', freq='C'), Timestamp('2022-12-13 00:00:00', freq='C'), Timestamp('2022-12-14 00:00:00', freq='C')]\n",
      "10/10 [==============================] - 0s 6ms/step\n"
     ]
    }
   ],
   "source": [
    "#Predicting...\n",
    "#Libraries that will help us extract only business days in the US.\n",
    "#Otherwise our dates would be wrong when we look back (or forward).  \n",
    "from pandas.tseries.holiday import USFederalHolidayCalendar\n",
    "from pandas.tseries.offsets import CustomBusinessDay\n",
    "us_bd = CustomBusinessDay(calendar=USFederalHolidayCalendar())\n",
    "#Remember that we can only predict one day in future as our model needs 5 variables\n",
    "#as inputs for prediction. We only have all 5 variables until the last day in our dataset.\n",
    "n_past = 300\n",
    "n_days_for_prediction=n_past+1  #let us predict past 15 days\n",
    "\n",
    "predict_period_dates = pd.date_range(list(train_dates)[-n_past], periods=n_days_for_prediction, freq=us_bd).tolist()\n",
    "print(predict_period_dates)\n",
    "\n",
    "#Make prediction\n",
    "prediction = model.predict(trainX[-n_days_for_prediction:]) #shape = (n, 1) where n is the n_days_for_prediction"
   ]
  },
  {
   "cell_type": "code",
   "execution_count": 68,
   "metadata": {},
   "outputs": [],
   "source": [
    "#Perform inverse transformation to rescale back to original range\n",
    "#Since we used 5 variables for transform, the inverse expects same dimensions\n",
    "#Therefore, let us copy our values 5 times and discard them after inverse transform\n",
    "prediction_copies = np.repeat(prediction, df_for_training.shape[1], axis=-1)\n",
    "y_pred_future = scaler.inverse_transform(prediction_copies)[:,0]"
   ]
  },
  {
   "cell_type": "code",
   "execution_count": 69,
   "metadata": {},
   "outputs": [
    {
     "name": "stderr",
     "output_type": "stream",
     "text": [
      "C:\\Users\\h2pro\\AppData\\Local\\Temp\\ipykernel_9864\\2407180210.py:11: SettingWithCopyWarning: \n",
      "A value is trying to be set on a copy of a slice from a DataFrame.\n",
      "Try using .loc[row_indexer,col_indexer] = value instead\n",
      "\n",
      "See the caveats in the documentation: https://pandas.pydata.org/pandas-docs/stable/user_guide/indexing.html#returning-a-view-versus-a-copy\n",
      "  original['Date']=pd.to_datetime(original['Date'])\n"
     ]
    }
   ],
   "source": [
    "# Convert timestamp to date\n",
    "forecast_dates = []\n",
    "for time_i in predict_period_dates:\n",
    "    forecast_dates.append(time_i.date())\n",
    "    \n",
    "df_forecast = pd.DataFrame({'Date':np.array(forecast_dates), 'Price':y_pred_future})\n",
    "df_forecast['Date']=pd.to_datetime(df_forecast['Date'])\n",
    "\n",
    "\n",
    "original = df[['Date', 'Price']]\n",
    "original['Date']=pd.to_datetime(original['Date'])\n",
    "original = original.loc[original['Date'] >= '2020-5-1']"
   ]
  },
  {
   "cell_type": "code",
   "execution_count": 70,
   "metadata": {},
   "outputs": [
    {
     "name": "stderr",
     "output_type": "stream",
     "text": [
      "c:\\Users\\h2pro\\AppData\\Local\\Programs\\Python\\Python310\\lib\\site-packages\\seaborn\\_decorators.py:36: FutureWarning: Pass the following variables as keyword args: x, y. From version 0.12, the only valid positional argument will be `data`, and passing other arguments without an explicit keyword will result in an error or misinterpretation.\n",
      "  warnings.warn(\n",
      "c:\\Users\\h2pro\\AppData\\Local\\Programs\\Python\\Python310\\lib\\site-packages\\seaborn\\_decorators.py:36: FutureWarning: Pass the following variables as keyword args: x, y. From version 0.12, the only valid positional argument will be `data`, and passing other arguments without an explicit keyword will result in an error or misinterpretation.\n",
      "  warnings.warn(\n"
     ]
    },
    {
     "data": {
      "text/plain": [
       "<AxesSubplot:xlabel='Date', ylabel='Price'>"
      ]
     },
     "execution_count": 70,
     "metadata": {},
     "output_type": "execute_result"
    },
    {
     "data": {
      "image/png": "[encoded data removed]",
      "text/plain": [
       "<Figure size 432x288 with 1 Axes>"
      ]
     },
     "metadata": {
      "needs_background": "light"
     },
     "output_type": "display_data"
    }
   ],
   "source": [
    "sns.lineplot(original['Date'], original['Price'])\n",
    "sns.lineplot(df_forecast['Date'], df_forecast['Price'])"
   ]
  }
 ],
 "metadata": {
  "kernelspec": {
   "display_name": "Python 3.10.5 64-bit",
   "language": "python",
   "name": "python3"
  },
  "language_info": {
   "codemirror_mode": {
    "name": "ipython",
    "version": 3
   },
   "file_extension": ".py",
   "mimetype": "text/x-python",
   "name": "python",
   "nbconvert_exporter": "python",
   "pygments_lexer": "ipython3",
   "version": "3.10.5"
  },
  "vscode": {
   "interpreter": {
    "hash": "01c730f715953cdae05f8e4ac25ca6d1b5ea3ce06f18038eaf15eb4c2f30d669"
   }
  }
 },
 "nbformat": 4,
 "nbformat_minor": 0
}
