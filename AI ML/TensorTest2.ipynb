{
 "cells": [
  {
   "cell_type": "code",
   "execution_count": 25,
   "metadata": {
    "collapsed": true,
    "pycharm": {
     "name": "#%%\n"
    }
   },
   "outputs": [],
   "source": [
    "import numpy as np\n",
    "import matplotlib.pyplot as plt\n",
    "import pandas as pd\n",
    "import datetime as dt\n",
    "import yfinance as yfin\n",
    "yfin.pdr_override()\n",
    "import StockPull\n",
    "from sklearn.preprocessing import MinMaxScaler\n",
    "from tensorflow.keras.models import Sequential\n",
    "from tensorflow.keras.layers import Bidirectional, Dropout, Activation, Dense, LSTM\n",
    "\n",
    "#load data\n",
    "company = 'tsla'\n",
    "start = dt.datetime(2012,1,1)\n",
    "end = dt.datetime(2022,1,1)\n",
    "\n",
    "data = StockPull.analysisout(company)\n",
    "\n",
    "#prepare data\n",
    "\n",
    "scaler = MinMaxScaler(feature_range=(0,1))\n",
    "scaled_data = scaler.fit_transform(data['Price'].values.reshape(-1,1), data['Volume'].values.reshape((-1,1)))\n",
    "\n",
    "prediction_days = 60\n",
    "\n",
    "x_train = []\n",
    "y_train = []\n",
    "\n",
    "for x in range(prediction_days, len(scaled_data)):\n",
    "    x_train.append(scaled_data[x-prediction_days:x, 0])\n",
    "    y_train.append(scaled_data[x,0])\n",
    "\n",
    "x_train, y_train = np.array(x_train), np.array(y_train)\n",
    "x_train = np.reshape(x_train, (x_train.shape[0], x_train.shape[1], 1))\n"
   ]
  },
  {
   "cell_type": "code",
   "execution_count": 27,
   "outputs": [
    {
     "name": "stdout",
     "output_type": "stream",
     "text": [
      "           Date       Price     Volume\n",
      "0    2017-11-27   21.120667   68338500\n",
      "1    2017-11-28   21.170000   74242500\n",
      "2    2017-11-29   20.502666  131511000\n",
      "3    2017-11-30   20.590000   65274000\n",
      "4    2017-12-01   20.435333   64393500\n",
      "...         ...         ...        ...\n",
      "1254 2022-11-18  180.190002   75904900\n",
      "1255 2022-11-21  167.869995   92882700\n",
      "1256 2022-11-22  169.910004   78452300\n",
      "1257 2022-11-23  183.199997  109536700\n",
      "1258 2022-11-25  182.860001   50672700\n",
      "\n",
      "[1259 rows x 3 columns]\n"
     ]
    }
   ],
   "source": [
    "print(data)"
   ],
   "metadata": {
    "collapsed": false,
    "pycharm": {
     "name": "#%%\n"
    }
   }
  },
  {
   "cell_type": "code",
   "execution_count": 13,
   "outputs": [
    {
     "name": "stdout",
     "output_type": "stream",
     "text": [
      "Epoch 1/25\n",
      "38/38 [==============================] - 4s 27ms/step - loss: 0.0249\n",
      "Epoch 2/25\n",
      "38/38 [==============================] - 1s 26ms/step - loss: 0.0034\n",
      "Epoch 3/25\n",
      "38/38 [==============================] - 1s 26ms/step - loss: 0.0028\n",
      "Epoch 4/25\n",
      "38/38 [==============================] - 1s 26ms/step - loss: 0.0029\n",
      "Epoch 5/25\n",
      "38/38 [==============================] - 1s 27ms/step - loss: 0.0025\n",
      "Epoch 6/25\n",
      "38/38 [==============================] - 1s 26ms/step - loss: 0.0023\n",
      "Epoch 7/25\n",
      "38/38 [==============================] - 1s 27ms/step - loss: 0.0021\n",
      "Epoch 8/25\n",
      "38/38 [==============================] - 1s 26ms/step - loss: 0.0026\n",
      "Epoch 9/25\n",
      "38/38 [==============================] - 1s 26ms/step - loss: 0.0021\n",
      "Epoch 10/25\n",
      "38/38 [==============================] - 1s 26ms/step - loss: 0.0020\n",
      "Epoch 11/25\n",
      "38/38 [==============================] - 1s 26ms/step - loss: 0.0019\n",
      "Epoch 12/25\n",
      "38/38 [==============================] - 1s 26ms/step - loss: 0.0018\n",
      "Epoch 13/25\n",
      "38/38 [==============================] - 1s 26ms/step - loss: 0.0016\n",
      "Epoch 14/25\n",
      "38/38 [==============================] - 1s 26ms/step - loss: 0.0019\n",
      "Epoch 15/25\n",
      "38/38 [==============================] - 1s 26ms/step - loss: 0.0016\n",
      "Epoch 16/25\n",
      "38/38 [==============================] - 1s 26ms/step - loss: 0.0015\n",
      "Epoch 17/25\n",
      "38/38 [==============================] - 1s 27ms/step - loss: 0.0018\n",
      "Epoch 18/25\n",
      "38/38 [==============================] - 1s 27ms/step - loss: 0.0016\n",
      "Epoch 19/25\n",
      "38/38 [==============================] - 1s 26ms/step - loss: 0.0015\n",
      "Epoch 20/25\n",
      "38/38 [==============================] - 1s 26ms/step - loss: 0.0014\n",
      "Epoch 21/25\n",
      "38/38 [==============================] - 1s 25ms/step - loss: 0.0014\n",
      "Epoch 22/25\n",
      "38/38 [==============================] - 1s 25ms/step - loss: 0.0013\n",
      "Epoch 23/25\n",
      "38/38 [==============================] - 1s 28ms/step - loss: 0.0013\n",
      "Epoch 24/25\n",
      "38/38 [==============================] - 1s 26ms/step - loss: 0.0013\n",
      "Epoch 25/25\n",
      "38/38 [==============================] - 1s 26ms/step - loss: 0.0016\n"
     ]
    },
    {
     "data": {
      "text/plain": "<keras.callbacks.History at 0x1ef0b2f9600>"
     },
     "execution_count": 13,
     "metadata": {},
     "output_type": "execute_result"
    }
   ],
   "source": [
    "\n",
    "#build the model\n",
    "\n",
    "model = Sequential()\n",
    "\n",
    "model.add(LSTM(units=50, return_sequences=True, input_shape = (x_train.shape[1], 1)))\n",
    "model.add(Dropout(0.2))\n",
    "model.add(LSTM(units=50, return_sequences=True))\n",
    "model.add(Dropout(0.2))\n",
    "model.add(LSTM(units=50))\n",
    "model.add(Dense(units=1)) #prediction of the next closing value)\n",
    "\n",
    "model.compile(optimizer ='adam', loss='mean_squared_error')\n",
    "model.fit(x_train, y_train, epochs=25, batch_size=32)\n",
    "\n"
   ],
   "metadata": {
    "collapsed": false,
    "pycharm": {
     "name": "#%%\n"
    }
   }
  },
  {
   "cell_type": "code",
   "execution_count": 14,
   "outputs": [],
   "source": [
    "#TEST THE MODEL ACCURACY\n",
    "\n",
    "test_start = dt.datetime(2022,1,1)\n",
    "test_end = dt.datetime.now()\n",
    "\n",
    "test_data = StockPull.analysisout(company, '5y','1d')\n",
    "actual_prices = test_data ['Price'].values\n",
    "\n",
    "total_dataset = pd.concat((data['Price'], test_data['Price']), axis=0)\n",
    "\n",
    "model_inputs = total_dataset[len(total_dataset) - len(test_data) - prediction_days:].values\n",
    "model_inpts = model_inputs.reshape(-1,1)\n",
    "model_inputs = scaler.transform(model_inpts)\n"
   ],
   "metadata": {
    "collapsed": false,
    "pycharm": {
     "name": "#%%\n"
    }
   }
  },
  {
   "cell_type": "code",
   "execution_count": 15,
   "outputs": [
    {
     "name": "stdout",
     "output_type": "stream",
     "text": [
      "40/40 [==============================] - 1s 9ms/step\n"
     ]
    }
   ],
   "source": [
    "#makeprediction on test data\n",
    "\n",
    "x_test = []\n",
    "\n",
    "for x in range(prediction_days, len(model_inputs)):\n",
    "    x_test.append(model_inputs[x-prediction_days:x, 0])\n",
    "\n",
    "x_test = np.array(x_test)\n",
    "x_test = np.reshape(x_test, (x_test.shape[0], x_test.shape[1],1))\n",
    "\n",
    "predicted_prices = model.predict(x_test)\n",
    "predicted_prices = scaler.inverse_transform(predicted_prices)\n"
   ],
   "metadata": {
    "collapsed": false,
    "pycharm": {
     "name": "#%%\n"
    }
   }
  },
  {
   "cell_type": "code",
   "execution_count": 16,
   "outputs": [
    {
     "name": "stderr",
     "output_type": "stream",
     "text": [
      "No artists with labels found to put in legend.  Note that artists whose label start with an underscore are ignored when legend() is called with no argument.\n"
     ]
    },
    {
     "data": {
      "text/plain": "<Figure size 432x288 with 1 Axes>",
      "image/png": "[encoded data removed]"
     },
     "metadata": {
      "needs_background": "light"
     },
     "output_type": "display_data"
    }
   ],
   "source": [
    "#plot the test predictions\n",
    "plt.plot(actual_prices, color = \"black\")\n",
    "plt.plot(predicted_prices, color = \"green\")\n",
    "plt.title(f\"{company} Share Price\")\n",
    "plt.xlabel('Time')\n",
    "plt.ylabel(f'{company} Share Price')\n",
    "plt.legend()\n",
    "plt.show()\n"
   ],
   "metadata": {
    "collapsed": false,
    "pycharm": {
     "name": "#%%\n"
    }
   }
  },
  {
   "cell_type": "code",
   "execution_count": 17,
   "outputs": [
    {
     "name": "stdout",
     "output_type": "stream",
     "text": [
      "1/1 [==============================] - 1s 732ms/step\n",
      "Prediction: [[196.15309]]\n"
     ]
    }
   ],
   "source": [
    "#Predict next day\n",
    "\n",
    "real_data = [model_inputs[len(model_inputs) + 1 - prediction_days:len(model_inputs+1), 0]]\n",
    "real_data = np.array(real_data)\n",
    "real_data = np.reshape(real_data, (real_data.shape[0], real_data.shape[1],1))\n",
    "\n",
    "prediction =  model.predict(real_data)\n",
    "prediction = scaler.inverse_transform(prediction)\n",
    "print(f\"Prediction: {prediction}\")"
   ],
   "metadata": {
    "collapsed": false,
    "pycharm": {
     "name": "#%%\n"
    }
   }
  },
  {
   "cell_type": "markdown",
   "source": [
    "\n"
   ],
   "metadata": {
    "collapsed": false,
    "pycharm": {
     "name": "#%% md\n"
    }
   }
  }
 ],
 "metadata": {
  "kernelspec": {
   "display_name": "Python 3",
   "language": "python",
   "name": "python3"
  },
  "language_info": {
   "codemirror_mode": {
    "name": "ipython",
    "version": 2
   },
   "file_extension": ".py",
   "mimetype": "text/x-python",
   "name": "python",
   "nbconvert_exporter": "python",
   "pygments_lexer": "ipython2",
   "version": "2.7.6"
  }
 },
 "nbformat": 4,
 "nbformat_minor": 0
}